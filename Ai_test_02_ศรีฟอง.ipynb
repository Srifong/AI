{
 "cells": [
  {
   "cell_type": "code",
   "execution_count": 45,
   "id": "f1c1040b",
   "metadata": {},
   "outputs": [
    {
     "name": "stdout",
     "output_type": "stream",
     "text": [
      "ระบุระยะทางที่ต้องการ :20\n",
      "จุดเริ่มต้น :A\n",
      "จุดหมายปลายทาง :E\n",
      "เส้นทางที่ดีที่สุดคือจาก : A ไป ['D', 'C', 'D', 'C', 'D', 'E'] ระยะทางเท่ากับ 20\n",
      "เส้นทางที่ดีที่สุดคือจาก : A ไป ['D', 'A', 'D', 'E'] ระยะทางเท่ากับ 20\n",
      "เส้นทางที่ดีที่สุดคือจาก : A ไป ['D', 'C', 'D', 'C', 'D', 'E'] ระยะทางเท่ากับ 20\n",
      "เส้นทางที่ดีที่สุดคือจาก : A ไป ['D', 'A', 'D', 'E'] ระยะทางเท่ากับ 20\n",
      "เส้นทางที่ดีที่สุดคือจาก : A ไป ['D', 'A', 'B', 'A', 'B', 'E'] ระยะทางเท่ากับ 20\n",
      "เส้นทางที่ดีที่สุดคือจาก : A ไป ['C', 'A', 'B', 'A', 'C', 'E'] ระยะทางเท่ากับ 20\n",
      "เส้นทางที่ดีที่สุดคือจาก : A ไป ['D', 'A', 'D', 'E'] ระยะทางเท่ากับ 20\n"
     ]
    }
   ],
   "source": [
    "import numpy as np\n",
    "from numpy import random\n",
    "\n",
    "\n",
    "def City(st):\n",
    "    for i in range(len(cities)):\n",
    "        if st == cities[i]:\n",
    "            return i\n",
    "\n",
    "\n",
    "def Random(ad, st, t, num):\n",
    "    for i in ad[st]:\n",
    "        t = t + 1\n",
    "        if i != 0 and i != st:\n",
    "            num.append(t)\n",
    "    #         print(\"@\",i)\n",
    "    # print(\"@\",num)\n",
    "    return num[random.randint(0, len(num))]\n",
    "\n",
    "\n",
    "def check(cities, ad, need, st, sp, reslut):\n",
    "    start = st\n",
    "    R = -1\n",
    "    sum = 0\n",
    "    sumneed = []\n",
    "    Set = []\n",
    "    for _ in range(100):\n",
    "        S = []\n",
    "        while sp != R:\n",
    "            R = Random(ad, start, -1, [])\n",
    "            sum = sum + ad[start, R]\n",
    "            start = R\n",
    "            S.append(cities[R])\n",
    "        #     print(R,cities[R],sum)\n",
    "        # print(\"@\")\n",
    "        reslut.append(sum)\n",
    "        Set.append(S)\n",
    "        sum = 0\n",
    "        R = Random(ad, st, -1, [])\n",
    "\n",
    "    for i in reslut:\n",
    "        if i > int(need):\n",
    "            sumneed.append(i - int(need))\n",
    "        else:\n",
    "            sumneed.append(int(need) - i)\n",
    "#     print(Set)\n",
    "#     print(reslut)\n",
    "#     print(sumneed)\n",
    "    for i in range(len(sumneed)):\n",
    "        if min(sumneed) == sumneed[i]:\n",
    "            print(\"เส้นทางที่ดีที่สุดคือจาก :\",cities[st],\"ไป\",Set[i],\"ระยะทางเท่ากับ\",reslut[i])\n",
    "\n",
    "\n",
    "cities = [\"A\", \"B\", \"C\", \"D\", \"E\"]\n",
    "adjacency_mat = np.asarray([\n",
    "    [0, 2, 5, 8, 0],\n",
    "    [2, 0, 0, 3, 4],\n",
    "    [5, 0, 0, 4, 3],\n",
    "    [8, 3, 4, 0, 2],\n",
    "    [0, 4, 3, 2, 0],\n",
    "])\n",
    "\n",
    "need = input(\"ระบุระยะทางที่ต้องการ :\")\n",
    "st = City(input(\"จุดเริ่มต้น :\"))\n",
    "sp = City(input(\"จุดหมายปลายทาง :\"))\n",
    "sum = 0\n",
    "check(cities, adjacency_mat, need, st, sp, [])\n"
   ]
  },
  {
   "cell_type": "code",
   "execution_count": null,
   "id": "3439d6f2",
   "metadata": {},
   "outputs": [],
   "source": []
  }
 ],
 "metadata": {
  "kernelspec": {
   "display_name": "Python 3",
   "language": "python",
   "name": "python3"
  },
  "language_info": {
   "codemirror_mode": {
    "name": "ipython",
    "version": 3
   },
   "file_extension": ".py",
   "mimetype": "text/x-python",
   "name": "python",
   "nbconvert_exporter": "python",
   "pygments_lexer": "ipython3",
   "version": "3.8.8"
  }
 },
 "nbformat": 4,
 "nbformat_minor": 5
}
